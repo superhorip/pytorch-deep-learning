{
 "cells": [
  {
   "cell_type": "code",
   "execution_count": 4,
   "id": "5cdd04ce",
   "metadata": {},
   "outputs": [
    {
     "data": {
      "text/plain": [
       "'2.1.0.dev20230707'"
      ]
     },
     "execution_count": 4,
     "metadata": {},
     "output_type": "execute_result"
    }
   ],
   "source": [
    "import torch\n",
    "torch.__version__"
   ]
  },
  {
   "cell_type": "code",
   "execution_count": 5,
   "id": "8d0968c9",
   "metadata": {},
   "outputs": [
    {
     "name": "stdout",
     "output_type": "stream",
     "text": [
      "True\n",
      "True\n"
     ]
    }
   ],
   "source": [
    "\n",
    "import math\n",
    "# this ensures that the current MacOS version is at least 12.3+\n",
    "print(torch.backends.mps.is_available())\n",
    "# this ensures that the current current PyTorch installation was built with MPS activated.\n",
    "print(torch.backends.mps.is_built())"
   ]
  },
  {
   "cell_type": "code",
   "execution_count": 6,
   "id": "f9874028",
   "metadata": {},
   "outputs": [
    {
     "data": {
      "text/plain": [
       "tensor(7)"
      ]
     },
     "execution_count": 6,
     "metadata": {},
     "output_type": "execute_result"
    }
   ],
   "source": [
    "# Scalar\n",
    "scalar = torch.tensor(7)\n",
    "scalar"
   ]
  },
  {
   "cell_type": "code",
   "execution_count": 7,
   "id": "ee0c3119",
   "metadata": {},
   "outputs": [
    {
     "data": {
      "text/plain": [
       "0"
      ]
     },
     "execution_count": 7,
     "metadata": {},
     "output_type": "execute_result"
    }
   ],
   "source": [
    "scalar.ndim"
   ]
  },
  {
   "cell_type": "code",
   "execution_count": 8,
   "id": "7a29efbf",
   "metadata": {},
   "outputs": [
    {
     "data": {
      "text/plain": [
       "tensor([7, 7, 7])"
      ]
     },
     "execution_count": 8,
     "metadata": {},
     "output_type": "execute_result"
    }
   ],
   "source": [
    "vector = torch.tensor([7,7,7])\n",
    "vector"
   ]
  },
  {
   "cell_type": "code",
   "execution_count": 9,
   "id": "fe936c54",
   "metadata": {},
   "outputs": [
    {
     "data": {
      "text/plain": [
       "1"
      ]
     },
     "execution_count": 9,
     "metadata": {},
     "output_type": "execute_result"
    }
   ],
   "source": [
    "vector.ndim"
   ]
  },
  {
   "cell_type": "code",
   "execution_count": 10,
   "id": "fb1b512c",
   "metadata": {},
   "outputs": [
    {
     "data": {
      "text/plain": [
       "torch.Size([3])"
      ]
     },
     "execution_count": 10,
     "metadata": {},
     "output_type": "execute_result"
    }
   ],
   "source": [
    "vector.shape"
   ]
  },
  {
   "cell_type": "code",
   "execution_count": 11,
   "id": "62a39984",
   "metadata": {},
   "outputs": [],
   "source": [
    "#Dimension is number of square brackets"
   ]
  },
  {
   "cell_type": "code",
   "execution_count": 12,
   "id": "4728f576",
   "metadata": {},
   "outputs": [
    {
     "data": {
      "text/plain": [
       "tensor([[ 7,  8,  8],\n",
       "        [ 9, 10,  9]])"
      ]
     },
     "execution_count": 12,
     "metadata": {},
     "output_type": "execute_result"
    }
   ],
   "source": [
    "# MATRIX\n",
    "MATRIX = torch.tensor([[7,8,8],\n",
    "                       [9,10,9]])\n",
    "MATRIX"
   ]
  },
  {
   "cell_type": "code",
   "execution_count": 13,
   "id": "61c12c34",
   "metadata": {},
   "outputs": [
    {
     "data": {
      "text/plain": [
       "2"
      ]
     },
     "execution_count": 13,
     "metadata": {},
     "output_type": "execute_result"
    }
   ],
   "source": [
    "MATRIX.ndim"
   ]
  },
  {
   "cell_type": "code",
   "execution_count": 14,
   "id": "81b021cc",
   "metadata": {},
   "outputs": [
    {
     "data": {
      "text/plain": [
       "torch.Size([2, 3])"
      ]
     },
     "execution_count": 14,
     "metadata": {},
     "output_type": "execute_result"
    }
   ],
   "source": [
    "MATRIX.shape"
   ]
  },
  {
   "cell_type": "code",
   "execution_count": 15,
   "id": "ccc3799d",
   "metadata": {},
   "outputs": [],
   "source": [
    "TENSOR = torch.tensor([[[1,2,3],\n",
    "                        [4,5,6],\n",
    "                        [7,8,9]]])"
   ]
  },
  {
   "cell_type": "code",
   "execution_count": 16,
   "id": "de118842",
   "metadata": {},
   "outputs": [
    {
     "data": {
      "text/plain": [
       "torch.Size([1, 3, 3])"
      ]
     },
     "execution_count": 16,
     "metadata": {},
     "output_type": "execute_result"
    }
   ],
   "source": [
    "TENSOR.shape"
   ]
  },
  {
   "cell_type": "code",
   "execution_count": 17,
   "id": "9e0998a0",
   "metadata": {},
   "outputs": [],
   "source": [
    "ONES = torch.ones([2,2,2])"
   ]
  },
  {
   "cell_type": "code",
   "execution_count": 18,
   "id": "fc508dae",
   "metadata": {
    "scrolled": true
   },
   "outputs": [
    {
     "data": {
      "text/plain": [
       "tensor([[[1., 1.],\n",
       "         [1., 1.]],\n",
       "\n",
       "        [[1., 1.],\n",
       "         [1., 1.]]])"
      ]
     },
     "execution_count": 18,
     "metadata": {},
     "output_type": "execute_result"
    }
   ],
   "source": [
    "ONES"
   ]
  },
  {
   "cell_type": "code",
   "execution_count": 19,
   "id": "1fb03390",
   "metadata": {},
   "outputs": [],
   "source": [
    "ONES = torch.ones([2,2,2,2])"
   ]
  },
  {
   "cell_type": "code",
   "execution_count": 20,
   "id": "e5ac258c",
   "metadata": {},
   "outputs": [
    {
     "data": {
      "text/plain": [
       "tensor([[[[1., 1.],\n",
       "          [1., 1.]],\n",
       "\n",
       "         [[1., 1.],\n",
       "          [1., 1.]]],\n",
       "\n",
       "\n",
       "        [[[1., 1.],\n",
       "          [1., 1.]],\n",
       "\n",
       "         [[1., 1.],\n",
       "          [1., 1.]]]])"
      ]
     },
     "execution_count": 20,
     "metadata": {},
     "output_type": "execute_result"
    }
   ],
   "source": [
    "ONES"
   ]
  },
  {
   "cell_type": "code",
   "execution_count": 21,
   "id": "43b8586f",
   "metadata": {},
   "outputs": [
    {
     "data": {
      "text/plain": [
       "tensor([[0.5336, 0.8060, 0.0935, 0.1015],\n",
       "        [0.5072, 0.9178, 0.2064, 0.6351],\n",
       "        [0.0943, 0.5522, 0.0496, 0.7900]])"
      ]
     },
     "execution_count": 21,
     "metadata": {},
     "output_type": "execute_result"
    }
   ],
   "source": [
    "# RAND tensors\n",
    "random_tensor = torch.rand(size=(3,4))\n",
    "random_tensor"
   ]
  },
  {
   "cell_type": "code",
   "execution_count": 22,
   "id": "d705e409",
   "metadata": {},
   "outputs": [
    {
     "data": {
      "text/plain": [
       "tensor([[[0.1761, 0.4034, 0.0415,  ..., 0.8269, 0.9981, 0.3644],\n",
       "         [0.3237, 0.7129, 0.8433,  ..., 0.1010, 0.7586, 0.0880],\n",
       "         [0.6849, 0.2623, 0.1111,  ..., 0.4565, 0.1782, 0.5356],\n",
       "         ...,\n",
       "         [0.6947, 0.3679, 0.6341,  ..., 0.5482, 0.9264, 0.6405],\n",
       "         [0.1379, 0.6213, 0.4932,  ..., 0.1881, 0.2577, 0.5901],\n",
       "         [0.9873, 0.1209, 0.1584,  ..., 0.6513, 0.3275, 0.9071]],\n",
       "\n",
       "        [[0.5105, 0.6772, 0.2294,  ..., 0.7170, 0.3829, 0.0029],\n",
       "         [0.6210, 0.9707, 0.2016,  ..., 0.5977, 0.6518, 0.7890],\n",
       "         [0.7305, 0.4664, 0.8645,  ..., 0.0823, 0.4367, 0.4480],\n",
       "         ...,\n",
       "         [0.2670, 0.0945, 0.8724,  ..., 0.2304, 0.4658, 0.1616],\n",
       "         [0.2001, 0.1342, 0.6999,  ..., 0.6232, 0.1069, 0.6638],\n",
       "         [0.0412, 0.0328, 0.5565,  ..., 0.6135, 0.0043, 0.6026]],\n",
       "\n",
       "        [[0.9351, 0.0847, 0.0909,  ..., 0.2789, 0.0492, 0.9501],\n",
       "         [0.5952, 0.2287, 0.4163,  ..., 0.0836, 0.9919, 0.3117],\n",
       "         [0.5599, 0.3638, 0.5232,  ..., 0.3248, 0.7594, 0.2451],\n",
       "         ...,\n",
       "         [0.1897, 0.7180, 0.4824,  ..., 0.8434, 0.5415, 0.7227],\n",
       "         [0.7724, 0.6780, 0.5573,  ..., 0.8256, 0.2202, 0.6117],\n",
       "         [0.9547, 0.3676, 0.5025,  ..., 0.2531, 0.9837, 0.2632]]])"
      ]
     },
     "execution_count": 22,
     "metadata": {},
     "output_type": "execute_result"
    }
   ],
   "source": [
    "image_tensor = torch.rand(size=(3,224,244))\n",
    "image_tensor"
   ]
  },
  {
   "cell_type": "code",
   "execution_count": 23,
   "id": "87f4e842",
   "metadata": {},
   "outputs": [
    {
     "data": {
      "text/plain": [
       "tensor([[[0., 0.],\n",
       "         [0., 0.]],\n",
       "\n",
       "        [[0., 0.],\n",
       "         [0., 0.]]])"
      ]
     },
     "execution_count": 23,
     "metadata": {},
     "output_type": "execute_result"
    }
   ],
   "source": [
    "#ZEROS\n",
    "ZEROS = torch.zeros([2,2,2])\n",
    "ZEROS"
   ]
  },
  {
   "cell_type": "code",
   "execution_count": null,
   "id": "c01f97fe",
   "metadata": {},
   "outputs": [],
   "source": []
  },
  {
   "cell_type": "code",
   "execution_count": null,
   "id": "a8b5efe1",
   "metadata": {},
   "outputs": [],
   "source": []
  },
  {
   "cell_type": "markdown",
   "id": "b75abc11",
   "metadata": {},
   "source": [
    "RANGE"
   ]
  },
  {
   "cell_type": "code",
   "execution_count": 24,
   "id": "5f301138",
   "metadata": {},
   "outputs": [
    {
     "data": {
      "text/plain": [
       "tensor([0, 1, 2, 3, 4, 5, 6, 7, 8, 9])"
      ]
     },
     "execution_count": 24,
     "metadata": {},
     "output_type": "execute_result"
    }
   ],
   "source": [
    "torch.arange(0,10)"
   ]
  },
  {
   "cell_type": "code",
   "execution_count": 25,
   "id": "bd464ebc",
   "metadata": {},
   "outputs": [
    {
     "data": {
      "text/plain": [
       "tensor([0, 1, 2, 3, 4, 5, 6, 7, 8, 9])"
      ]
     },
     "execution_count": 25,
     "metadata": {},
     "output_type": "execute_result"
    }
   ],
   "source": [
    "#creating tensors like\n",
    "one_to_ten = torch.arange(0,10)\n",
    "one_to_ten"
   ]
  },
  {
   "cell_type": "code",
   "execution_count": 26,
   "id": "fdbefe36",
   "metadata": {},
   "outputs": [
    {
     "data": {
      "text/plain": [
       "tensor([0, 0, 0, 0, 0, 0, 0, 0, 0, 0])"
      ]
     },
     "execution_count": 26,
     "metadata": {},
     "output_type": "execute_result"
    }
   ],
   "source": [
    "ten_zeros = torch.zeros_like(input=one_to_ten)\n",
    "ten_zeros"
   ]
  },
  {
   "cell_type": "markdown",
   "id": "3de6ea37",
   "metadata": {},
   "source": [
    " Tensor datatypes"
   ]
  },
  {
   "cell_type": "code",
   "execution_count": 27,
   "id": "17787b16",
   "metadata": {},
   "outputs": [
    {
     "data": {
      "text/plain": [
       "tensor([3., 6., 9.], dtype=torch.float16)"
      ]
     },
     "execution_count": 27,
     "metadata": {},
     "output_type": "execute_result"
    }
   ],
   "source": [
    "float_32_tensor = torch.tensor([3.0, 6.0, 9.0],\n",
    "                               dtype=torch.float16,\n",
    "                               device=None,\n",
    "                               requires_grad = False)\n",
    "float_32_tensor"
   ]
  },
  {
   "cell_type": "markdown",
   "id": "dcf3025c",
   "metadata": {},
   "source": [
    "### 3 COMMON ERRORs\n",
    "    1 Tensors not right datatype\n",
    "    2 Tensors not right shape\n",
    "    3 Tensors not on right devise"
   ]
  },
  {
   "cell_type": "code",
   "execution_count": 28,
   "id": "d85034a8",
   "metadata": {},
   "outputs": [],
   "source": [
    "#Information from tensors\n",
    "some_tensor = torch.rand(3,4)"
   ]
  },
  {
   "cell_type": "code",
   "execution_count": 29,
   "id": "9da47ce1",
   "metadata": {},
   "outputs": [
    {
     "name": "stdout",
     "output_type": "stream",
     "text": [
      "Datatype: torch.float32\n",
      "Size: torch.Size([3, 4])\n",
      "Device: cpu\n"
     ]
    }
   ],
   "source": [
    "print (f'Datatype: {some_tensor.dtype}')\n",
    "print (f'Size: {some_tensor.size()}')\n",
    "print (f'Device: {some_tensor.device}')"
   ]
  },
  {
   "cell_type": "markdown",
   "id": "509fda73",
   "metadata": {},
   "source": [
    "### Tensor manipulations"
   ]
  },
  {
   "cell_type": "code",
   "execution_count": 30,
   "id": "45b47915",
   "metadata": {},
   "outputs": [
    {
     "data": {
      "text/plain": [
       "tensor([11, 12, 13])"
      ]
     },
     "execution_count": 30,
     "metadata": {},
     "output_type": "execute_result"
    }
   ],
   "source": [
    "tensor = torch.tensor([1,2,3])\n",
    "tensor + 10"
   ]
  },
  {
   "cell_type": "code",
   "execution_count": 31,
   "id": "cc6f4691",
   "metadata": {},
   "outputs": [
    {
     "data": {
      "text/plain": [
       "tensor([10, 20, 30])"
      ]
     },
     "execution_count": 31,
     "metadata": {},
     "output_type": "execute_result"
    }
   ],
   "source": [
    "tensor * 10"
   ]
  },
  {
   "cell_type": "code",
   "execution_count": 32,
   "id": "0540caa9",
   "metadata": {},
   "outputs": [
    {
     "data": {
      "text/plain": [
       "tensor([0.1000, 0.2000, 0.3000])"
      ]
     },
     "execution_count": 32,
     "metadata": {},
     "output_type": "execute_result"
    }
   ],
   "source": [
    "tensor / 10"
   ]
  },
  {
   "cell_type": "markdown",
   "id": "b8e7b7ae",
   "metadata": {},
   "source": [
    "### Matrix multiplication"
   ]
  },
  {
   "cell_type": "code",
   "execution_count": 33,
   "id": "3627f171",
   "metadata": {},
   "outputs": [
    {
     "data": {
      "text/plain": [
       "tensor(14)"
      ]
     },
     "execution_count": 33,
     "metadata": {},
     "output_type": "execute_result"
    }
   ],
   "source": [
    "torch.matmul(tensor,tensor)"
   ]
  },
  {
   "cell_type": "code",
   "execution_count": 34,
   "id": "ab1c2bf1",
   "metadata": {},
   "outputs": [
    {
     "ename": "RuntimeError",
     "evalue": "mat1 and mat2 shapes cannot be multiplied (3x2 and 3x2)",
     "output_type": "error",
     "traceback": [
      "\u001b[0;31m---------------------------------------------------------------------------\u001b[0m",
      "\u001b[0;31mRuntimeError\u001b[0m                              Traceback (most recent call last)",
      "Input \u001b[0;32mIn [34]\u001b[0m, in \u001b[0;36m<cell line: 10>\u001b[0;34m()\u001b[0m\n\u001b[1;32m      2\u001b[0m tensor_A \u001b[38;5;241m=\u001b[39m torch\u001b[38;5;241m.\u001b[39mtensor([[\u001b[38;5;241m1\u001b[39m, \u001b[38;5;241m2\u001b[39m],\n\u001b[1;32m      3\u001b[0m                          [\u001b[38;5;241m3\u001b[39m, \u001b[38;5;241m4\u001b[39m],\n\u001b[1;32m      4\u001b[0m                          [\u001b[38;5;241m5\u001b[39m, \u001b[38;5;241m6\u001b[39m]], dtype\u001b[38;5;241m=\u001b[39mtorch\u001b[38;5;241m.\u001b[39mfloat32)\n\u001b[1;32m      6\u001b[0m tensor_B \u001b[38;5;241m=\u001b[39m torch\u001b[38;5;241m.\u001b[39mtensor([[\u001b[38;5;241m7\u001b[39m, \u001b[38;5;241m10\u001b[39m],\n\u001b[1;32m      7\u001b[0m                          [\u001b[38;5;241m8\u001b[39m, \u001b[38;5;241m11\u001b[39m], \n\u001b[1;32m      8\u001b[0m                          [\u001b[38;5;241m9\u001b[39m, \u001b[38;5;241m12\u001b[39m]], dtype\u001b[38;5;241m=\u001b[39mtorch\u001b[38;5;241m.\u001b[39mfloat32)\n\u001b[0;32m---> 10\u001b[0m \u001b[43mtorch\u001b[49m\u001b[38;5;241;43m.\u001b[39;49m\u001b[43mmatmul\u001b[49m\u001b[43m(\u001b[49m\u001b[43mtensor_A\u001b[49m\u001b[43m,\u001b[49m\u001b[43m \u001b[49m\u001b[43mtensor_B\u001b[49m\u001b[43m)\u001b[49m\n",
      "\u001b[0;31mRuntimeError\u001b[0m: mat1 and mat2 shapes cannot be multiplied (3x2 and 3x2)"
     ]
    }
   ],
   "source": [
    "# Shapes need to be in the right way  \n",
    "tensor_A = torch.tensor([[1, 2],\n",
    "                         [3, 4],\n",
    "                         [5, 6]], dtype=torch.float32)\n",
    "\n",
    "tensor_B = torch.tensor([[7, 10],\n",
    "                         [8, 11], \n",
    "                         [9, 12]], dtype=torch.float32)\n",
    "\n",
    "torch.matmul(tensor_A, tensor_B) # (this will error)"
   ]
  },
  {
   "cell_type": "code",
   "execution_count": 35,
   "id": "f02ffdcb",
   "metadata": {},
   "outputs": [
    {
     "name": "stdout",
     "output_type": "stream",
     "text": [
      "torch.Size([3, 2])\n",
      "torch.Size([3, 2])\n"
     ]
    }
   ],
   "source": [
    "print(tensor_A.shape)\n",
    "print(tensor_B.shape)"
   ]
  },
  {
   "cell_type": "markdown",
   "id": "2a6b4ca0",
   "metadata": {},
   "source": [
    "### Transpose"
   ]
  },
  {
   "cell_type": "code",
   "execution_count": 36,
   "id": "5f4d9ac1",
   "metadata": {},
   "outputs": [
    {
     "data": {
      "text/plain": [
       "tensor([[ 7., 10.],\n",
       "        [ 8., 11.],\n",
       "        [ 9., 12.]])"
      ]
     },
     "execution_count": 36,
     "metadata": {},
     "output_type": "execute_result"
    }
   ],
   "source": [
    "tensor_B"
   ]
  },
  {
   "cell_type": "code",
   "execution_count": 37,
   "id": "cdd8500f",
   "metadata": {},
   "outputs": [
    {
     "data": {
      "text/plain": [
       "tensor([[ 7.,  8.,  9.],\n",
       "        [10., 11., 12.]])"
      ]
     },
     "execution_count": 37,
     "metadata": {},
     "output_type": "execute_result"
    }
   ],
   "source": [
    "tensor_B.T"
   ]
  },
  {
   "cell_type": "code",
   "execution_count": 38,
   "id": "afb71f8e",
   "metadata": {},
   "outputs": [],
   "source": [
    "tensor_C = torch.tensor([[1, 2, 3],\n",
    "                         [4, 5, 6], \n",
    "                         [7, 8, 9]], dtype=torch.float32)"
   ]
  },
  {
   "cell_type": "code",
   "execution_count": null,
   "id": "815e22f7",
   "metadata": {},
   "outputs": [],
   "source": []
  },
  {
   "cell_type": "code",
   "execution_count": 39,
   "id": "1b762d54",
   "metadata": {},
   "outputs": [
    {
     "data": {
      "text/plain": [
       "tensor([[1., 4., 7.],\n",
       "        [2., 5., 8.],\n",
       "        [3., 6., 9.]])"
      ]
     },
     "execution_count": 39,
     "metadata": {},
     "output_type": "execute_result"
    }
   ],
   "source": [
    "tensor_C.T"
   ]
  },
  {
   "cell_type": "markdown",
   "id": "1d98790f",
   "metadata": {},
   "source": [
    "### Tensor propperties aggregation"
   ]
  },
  {
   "cell_type": "code",
   "execution_count": 40,
   "id": "4ca8bb07",
   "metadata": {},
   "outputs": [
    {
     "data": {
      "text/plain": [
       "tensor([2, 2, 2])"
      ]
     },
     "execution_count": 40,
     "metadata": {},
     "output_type": "execute_result"
    }
   ],
   "source": [
    "# Returns position of max value in tensor\n",
    "tensor_C.argmax(dim=1)"
   ]
  },
  {
   "cell_type": "code",
   "execution_count": 41,
   "id": "3e7c4f04",
   "metadata": {
    "scrolled": true
   },
   "outputs": [
    {
     "data": {
      "text/plain": [
       "torch.Size([3, 3])"
      ]
     },
     "execution_count": 41,
     "metadata": {},
     "output_type": "execute_result"
    }
   ],
   "source": [
    "tensor_C.shape"
   ]
  },
  {
   "cell_type": "code",
   "execution_count": 42,
   "id": "e49b28a1",
   "metadata": {},
   "outputs": [],
   "source": [
    "tensor_D = torch.tensor([[12, 2, 1],\n",
    "                         [4, 13, 6]\n",
    "                         ], dtype=torch.float32)"
   ]
  },
  {
   "cell_type": "code",
   "execution_count": 43,
   "id": "edd90c5f",
   "metadata": {},
   "outputs": [
    {
     "data": {
      "text/plain": [
       "(tensor(2),\n",
       " torch.return_types.min(\n",
       " values=tensor([1., 4.]),\n",
       " indices=tensor([2, 0])))"
      ]
     },
     "execution_count": 43,
     "metadata": {},
     "output_type": "execute_result"
    }
   ],
   "source": [
    "tensor_D.argmin(), tensor_D.min(1)"
   ]
  },
  {
   "cell_type": "markdown",
   "id": "c9cd277b",
   "metadata": {},
   "source": [
    "### Reshaping stacking squeesing and unsqueezing tensors\n",
    "    Reshaping - reshapes an input tensor to a defined shape\n",
    "    View - Return a view of an input tensor of a certian shape but keep the same memory object as original\n",
    "    Stacking  - combine multiple tensors on top of each other(vstack o hstack)\n",
    "    Squeeze - removes all '1' dimensions from a tensor\n",
    "    Unsqeueze - add a '1' dimension to a target tensor\n",
    "    Permute - return a view of the input dimensions permuted (swapped) in a certain way"
   ]
  },
  {
   "cell_type": "code",
   "execution_count": 44,
   "id": "2bc07006",
   "metadata": {},
   "outputs": [
    {
     "data": {
      "text/plain": [
       "(tensor([1., 2., 3., 4., 5., 6., 7., 8., 9.]), torch.Size([9]))"
      ]
     },
     "execution_count": 44,
     "metadata": {},
     "output_type": "execute_result"
    }
   ],
   "source": [
    "import torch\n",
    "x = torch.arange(1.,10)\n",
    "x, x.shape"
   ]
  },
  {
   "cell_type": "code",
   "execution_count": 45,
   "id": "6246276e",
   "metadata": {},
   "outputs": [
    {
     "data": {
      "text/plain": [
       "(tensor([[1., 2., 3., 4., 5., 6., 7., 8., 9.]]), torch.Size([1, 9]))"
      ]
     },
     "execution_count": 45,
     "metadata": {},
     "output_type": "execute_result"
    }
   ],
   "source": [
    "#Add an extra formation\n",
    "x_reshaped = x.reshape(1, 9)\n",
    "x_reshaped, x_reshaped.shape"
   ]
  },
  {
   "cell_type": "code",
   "execution_count": 46,
   "id": "e9c08dea",
   "metadata": {},
   "outputs": [
    {
     "data": {
      "text/plain": [
       "(tensor([[1., 2., 3., 4., 5., 6., 7., 8., 9.]]), torch.Size([1, 9]))"
      ]
     },
     "execution_count": 46,
     "metadata": {},
     "output_type": "execute_result"
    }
   ],
   "source": [
    "# change view | chenging z cnghes x (same memory on both)\n",
    "z = x.view(1,9)\n",
    "z, z.shape"
   ]
  },
  {
   "cell_type": "code",
   "execution_count": 47,
   "id": "67ed6e3d",
   "metadata": {},
   "outputs": [
    {
     "data": {
      "text/plain": [
       "tensor([[1., 2., 3., 4., 5., 6., 7., 8., 9.],\n",
       "        [1., 2., 3., 4., 5., 6., 7., 8., 9.],\n",
       "        [1., 2., 3., 4., 5., 6., 7., 8., 9.],\n",
       "        [1., 2., 3., 4., 5., 6., 7., 8., 9.]])"
      ]
     },
     "execution_count": 47,
     "metadata": {},
     "output_type": "execute_result"
    }
   ],
   "source": [
    "# stack tensors on top of each other\n",
    "x_stacked = torch.stack([x, x, x, x],dim=0)\n",
    "x_stacked"
   ]
  },
  {
   "cell_type": "code",
   "execution_count": 48,
   "id": "71a33a5f",
   "metadata": {},
   "outputs": [
    {
     "data": {
      "text/plain": [
       "tensor([[1., 1., 1., 1.],\n",
       "        [2., 2., 2., 2.],\n",
       "        [3., 3., 3., 3.],\n",
       "        [4., 4., 4., 4.],\n",
       "        [5., 5., 5., 5.],\n",
       "        [6., 6., 6., 6.],\n",
       "        [7., 7., 7., 7.],\n",
       "        [8., 8., 8., 8.],\n",
       "        [9., 9., 9., 9.]])"
      ]
     },
     "execution_count": 48,
     "metadata": {},
     "output_type": "execute_result"
    }
   ],
   "source": [
    "x_stacked = torch.stack([x, x, x, x],dim=1)\n",
    "x_stacked"
   ]
  },
  {
   "cell_type": "code",
   "execution_count": 49,
   "id": "9b113eca",
   "metadata": {},
   "outputs": [
    {
     "data": {
      "text/plain": [
       "(tensor([[1., 2., 3., 4., 5., 6., 7., 8., 9.]]), torch.Size([1, 9]))"
      ]
     },
     "execution_count": 49,
     "metadata": {},
     "output_type": "execute_result"
    }
   ],
   "source": [
    "#Squeeze and unsqueeze - removes all single dimensions from target tensor\n",
    "x_reshaped, x_reshaped.shape"
   ]
  },
  {
   "cell_type": "code",
   "execution_count": 50,
   "id": "32a7ec78",
   "metadata": {},
   "outputs": [
    {
     "data": {
      "text/plain": [
       "(tensor([1., 2., 3., 4., 5., 6., 7., 8., 9.]), torch.Size([9]))"
      ]
     },
     "execution_count": 50,
     "metadata": {},
     "output_type": "execute_result"
    }
   ],
   "source": [
    "x_reshaped.squeeze(), x_reshaped.squeeze().shape"
   ]
  },
  {
   "cell_type": "code",
   "execution_count": 51,
   "id": "f3b98cb5",
   "metadata": {},
   "outputs": [
    {
     "data": {
      "text/plain": [
       "tensor([[1., 2., 3., 4., 5., 6., 7., 8., 9.]])"
      ]
     },
     "execution_count": 51,
     "metadata": {},
     "output_type": "execute_result"
    }
   ],
   "source": [
    "# Orginal haven't changed\n",
    "x_reshaped"
   ]
  },
  {
   "cell_type": "code",
   "execution_count": 52,
   "id": "a84e7eee",
   "metadata": {
    "scrolled": true
   },
   "outputs": [
    {
     "data": {
      "text/plain": [
       "(tensor([[[1., 2., 3., 4., 5., 6., 7., 8., 9.]]]), torch.Size([1, 1, 9]))"
      ]
     },
     "execution_count": 52,
     "metadata": {},
     "output_type": "execute_result"
    }
   ],
   "source": [
    "# torch unsqueeze adds single dimension\n",
    "x_reshaped.unsqueeze(dim=0), x_reshaped.unsqueeze(dim=0).shape"
   ]
  },
  {
   "cell_type": "code",
   "execution_count": 53,
   "id": "8936d1f0",
   "metadata": {},
   "outputs": [
    {
     "data": {
      "text/plain": [
       "(tensor([[[1., 2., 3., 4., 5., 6., 7., 8., 9.]]]), torch.Size([1, 1, 9]))"
      ]
     },
     "execution_count": 53,
     "metadata": {},
     "output_type": "execute_result"
    }
   ],
   "source": [
    "x_reshaped.unsqueeze(dim=1), x_reshaped.unsqueeze(dim=1).shape"
   ]
  },
  {
   "cell_type": "code",
   "execution_count": 54,
   "id": "dceb3774",
   "metadata": {},
   "outputs": [
    {
     "data": {
      "text/plain": [
       "(tensor([[[1.],\n",
       "          [2.],\n",
       "          [3.],\n",
       "          [4.],\n",
       "          [5.],\n",
       "          [6.],\n",
       "          [7.],\n",
       "          [8.],\n",
       "          [9.]]]),\n",
       " torch.Size([1, 9, 1]))"
      ]
     },
     "execution_count": 54,
     "metadata": {},
     "output_type": "execute_result"
    }
   ],
   "source": [
    "x_reshaped.unsqueeze(dim=2), x_reshaped.unsqueeze(dim=2).shape"
   ]
  },
  {
   "cell_type": "code",
   "execution_count": 55,
   "id": "817168e3",
   "metadata": {},
   "outputs": [],
   "source": [
    "# Permute - rearrenges dimnesions in specified order\n",
    "x_original = torch.rand(size=(2,2,1))\n",
    "x_permuted = x_original.permute(2,0,1)"
   ]
  },
  {
   "cell_type": "code",
   "execution_count": 56,
   "id": "b6798a17",
   "metadata": {},
   "outputs": [
    {
     "data": {
      "text/plain": [
       "(tensor([[[0.1693, 0.8906],\n",
       "          [0.3794, 0.6790]]]),\n",
       " tensor([[[0.1693],\n",
       "          [0.8906]],\n",
       " \n",
       "         [[0.3794],\n",
       "          [0.6790]]]))"
      ]
     },
     "execution_count": 56,
     "metadata": {},
     "output_type": "execute_result"
    }
   ],
   "source": [
    "x_permuted ,x_original"
   ]
  },
  {
   "cell_type": "code",
   "execution_count": 57,
   "id": "e8681125",
   "metadata": {},
   "outputs": [],
   "source": [
    "x_permuted[0][0][0] = 0"
   ]
  },
  {
   "cell_type": "code",
   "execution_count": 58,
   "id": "c258465e",
   "metadata": {},
   "outputs": [
    {
     "data": {
      "text/plain": [
       "tensor([[[0.0000, 0.8906],\n",
       "         [0.3794, 0.6790]]])"
      ]
     },
     "execution_count": 58,
     "metadata": {},
     "output_type": "execute_result"
    }
   ],
   "source": [
    "x_permuted"
   ]
  },
  {
   "cell_type": "code",
   "execution_count": 59,
   "id": "5227c3b2",
   "metadata": {},
   "outputs": [
    {
     "data": {
      "text/plain": [
       "tensor([[[0.0000],\n",
       "         [0.8906]],\n",
       "\n",
       "        [[0.3794],\n",
       "         [0.6790]]])"
      ]
     },
     "execution_count": 59,
     "metadata": {},
     "output_type": "execute_result"
    }
   ],
   "source": [
    "x_original"
   ]
  },
  {
   "cell_type": "code",
   "execution_count": 60,
   "id": "d0fb9f73",
   "metadata": {},
   "outputs": [],
   "source": [
    "#!!! view only changes the view of original, doesn't make copy of it in \n",
    "# memory it links to roginal(shares same memory with original.\n",
    "#Changes in view data changes the orgignal data\n"
   ]
  },
  {
   "cell_type": "code",
   "execution_count": 61,
   "id": "6dd43515",
   "metadata": {},
   "outputs": [
    {
     "data": {
      "text/plain": [
       "tensor(0.8906)"
      ]
     },
     "execution_count": 61,
     "metadata": {},
     "output_type": "execute_result"
    }
   ],
   "source": [
    "x_permuted[0][0][1] "
   ]
  },
  {
   "cell_type": "code",
   "execution_count": 62,
   "id": "690351c7",
   "metadata": {},
   "outputs": [
    {
     "data": {
      "text/plain": [
       "tensor(0.8906)"
      ]
     },
     "execution_count": 62,
     "metadata": {},
     "output_type": "execute_result"
    }
   ],
   "source": [
    "x_permuted[0, 0, 1] "
   ]
  },
  {
   "cell_type": "markdown",
   "id": "7db3c304",
   "metadata": {},
   "source": [
    "### Indexing"
   ]
  },
  {
   "cell_type": "code",
   "execution_count": 63,
   "id": "486f2cf8",
   "metadata": {},
   "outputs": [
    {
     "data": {
      "text/plain": [
       "(tensor([[[1, 2, 3],\n",
       "          [4, 5, 6],\n",
       "          [7, 8, 9]]]),\n",
       " torch.Size([1, 3, 3]))"
      ]
     },
     "execution_count": 63,
     "metadata": {},
     "output_type": "execute_result"
    }
   ],
   "source": [
    "x = torch.arange(1, 10).reshape(1,3,3)\n",
    "x, x.shape"
   ]
  },
  {
   "cell_type": "code",
   "execution_count": 64,
   "id": "82f83632",
   "metadata": {},
   "outputs": [
    {
     "data": {
      "text/plain": [
       "tensor([[1, 2, 3],\n",
       "        [4, 5, 6],\n",
       "        [7, 8, 9]])"
      ]
     },
     "execution_count": 64,
     "metadata": {},
     "output_type": "execute_result"
    }
   ],
   "source": [
    "x[0]"
   ]
  },
  {
   "cell_type": "code",
   "execution_count": 65,
   "id": "c59c8233",
   "metadata": {},
   "outputs": [
    {
     "data": {
      "text/plain": [
       "tensor([1, 2, 3])"
      ]
     },
     "execution_count": 65,
     "metadata": {},
     "output_type": "execute_result"
    }
   ],
   "source": [
    "x[0,0]"
   ]
  },
  {
   "cell_type": "code",
   "execution_count": 66,
   "id": "0465f9a2",
   "metadata": {},
   "outputs": [
    {
     "data": {
      "text/plain": [
       "tensor(1)"
      ]
     },
     "execution_count": 66,
     "metadata": {},
     "output_type": "execute_result"
    }
   ],
   "source": [
    "x[0,0,0]"
   ]
  },
  {
   "cell_type": "code",
   "execution_count": 67,
   "id": "1cccfd10",
   "metadata": {},
   "outputs": [
    {
     "data": {
      "text/plain": [
       "tensor([[3, 6, 9]])"
      ]
     },
     "execution_count": 67,
     "metadata": {},
     "output_type": "execute_result"
    }
   ],
   "source": [
    "x[:,:,2]"
   ]
  },
  {
   "cell_type": "markdown",
   "id": "0b9a7aed",
   "metadata": {},
   "source": [
    "### Pytorch and numpy"
   ]
  },
  {
   "cell_type": "code",
   "execution_count": 70,
   "id": "a66755d9",
   "metadata": {},
   "outputs": [],
   "source": [
    "#Data in Numpy, want in Torch tensor\n",
    "#torch.from_numpy(ndarray)\n",
    "# torch tensor to Numpy torch.tensor.numpy()"
   ]
  },
  {
   "cell_type": "code",
   "execution_count": 73,
   "id": "c044a13e",
   "metadata": {},
   "outputs": [
    {
     "data": {
      "text/plain": [
       "(array([1., 2., 3., 4., 5., 6., 7.]),\n",
       " tensor([1., 2., 3., 4., 5., 6., 7.], dtype=torch.float64))"
      ]
     },
     "execution_count": 73,
     "metadata": {},
     "output_type": "execute_result"
    }
   ],
   "source": [
    "#Numpy -> tensot\n",
    "import numpy as np\n",
    "array = np.arange(1.0, 8.0)\n",
    "tensor = torch.from_numpy(array)\n",
    "array, tensor"
   ]
  },
  {
   "cell_type": "code",
   "execution_count": 74,
   "id": "83712e78",
   "metadata": {},
   "outputs": [],
   "source": [
    "#Numpy default dtype float64, when pytorch float32"
   ]
  },
  {
   "cell_type": "code",
   "execution_count": 75,
   "id": "b7cd87c5",
   "metadata": {},
   "outputs": [
    {
     "data": {
      "text/plain": [
       "(tensor([1., 1., 1., 1., 1., 1., 1.]),\n",
       " array([1., 1., 1., 1., 1., 1., 1.], dtype=float32))"
      ]
     },
     "execution_count": 75,
     "metadata": {},
     "output_type": "execute_result"
    }
   ],
   "source": [
    "tensor = torch.ones(7)\n",
    "numpy_tensor = tensor.numpy()\n",
    "tensor, numpy_tensor"
   ]
  },
  {
   "cell_type": "markdown",
   "id": "5f907dc9",
   "metadata": {},
   "source": [
    "### Reproducebility"
   ]
  },
  {
   "cell_type": "code",
   "execution_count": 87,
   "id": "c9868449",
   "metadata": {},
   "outputs": [
    {
     "name": "stdout",
     "output_type": "stream",
     "text": [
      "tensor([[0.5779, 0.9040, 0.5547],\n",
      "        [0.3423, 0.6343, 0.3644],\n",
      "        [0.7104, 0.9464, 0.7890]])\n",
      "tensor([[0.2814, 0.7886, 0.5895],\n",
      "        [0.7539, 0.1952, 0.0050],\n",
      "        [0.3068, 0.1165, 0.9103]])\n",
      "tensor([[False, False, False],\n",
      "        [False, False, False],\n",
      "        [False, False, False]])\n"
     ]
    }
   ],
   "source": [
    "random_tensor_A = torch.rand(3, 3)\n",
    "random_tensor_B = torch.rand(3, 3)\n",
    "print (random_tensor_A)\n",
    "print (random_tensor_B)\n",
    "print (random_tensor_A == random_tensor_B)"
   ]
  },
  {
   "cell_type": "code",
   "execution_count": 18,
   "id": "e764f60c",
   "metadata": {},
   "outputs": [
    {
     "data": {
      "text/plain": [
       "<torch._C.Generator at 0x106b61d30>"
      ]
     },
     "execution_count": 18,
     "metadata": {},
     "output_type": "execute_result"
    }
   ],
   "source": [
    "import torch\n",
    "RANDOM_SEED = 42\n",
    "torch.manual_seed(RANDOM_SEED)"
   ]
  },
  {
   "cell_type": "code",
   "execution_count": 2,
   "id": "d4030c13",
   "metadata": {},
   "outputs": [
    {
     "name": "stdout",
     "output_type": "stream",
     "text": [
      "tensor([[0.8823, 0.9150, 0.3829, 0.9593],\n",
      "        [0.3904, 0.6009, 0.2566, 0.7936],\n",
      "        [0.9408, 0.1332, 0.9346, 0.5936]])\n",
      "tensor([[0.8694, 0.5677, 0.7411, 0.4294],\n",
      "        [0.8854, 0.5739, 0.2666, 0.6274],\n",
      "        [0.2696, 0.4414, 0.2969, 0.8317]])\n"
     ]
    }
   ],
   "source": [
    "torch.manual_seed(RANDOM_SEED)\n",
    "random_tensor_C = torch.rand(3, 4)\n",
    "random_tensor_D = torch.rand(3, 4)\n",
    "print (random_tensor_C)\n",
    "print (random_tensor_D)"
   ]
  },
  {
   "cell_type": "code",
   "execution_count": 3,
   "id": "c9262a81",
   "metadata": {},
   "outputs": [],
   "source": [
    "#Rand seed работает в методах той ячейки в которой он \n",
    "#прописан  Его надо каждый раз повторять"
   ]
  },
  {
   "cell_type": "code",
   "execution_count": 4,
   "id": "3a9a18da",
   "metadata": {},
   "outputs": [
    {
     "name": "stdout",
     "output_type": "stream",
     "text": [
      "tensor([[0.8823, 0.9150, 0.3829, 0.9593],\n",
      "        [0.3904, 0.6009, 0.2566, 0.7936],\n",
      "        [0.9408, 0.1332, 0.9346, 0.5936]])\n",
      "tensor([[0.8694, 0.5677, 0.7411, 0.4294],\n",
      "        [0.8854, 0.5739, 0.2666, 0.6274],\n",
      "        [0.2696, 0.4414, 0.2969, 0.8317]])\n"
     ]
    }
   ],
   "source": [
    "torch.manual_seed(RANDOM_SEED)\n",
    "random_tensor_C = torch.rand(3, 4)\n",
    "random_tensor_D = torch.rand(3, 4)\n",
    "print (random_tensor_C)\n",
    "print (random_tensor_D)"
   ]
  },
  {
   "cell_type": "code",
   "execution_count": 5,
   "id": "9405f540",
   "metadata": {},
   "outputs": [
    {
     "name": "stdout",
     "output_type": "stream",
     "text": [
      "tensor([[0.8823, 0.9150, 0.3829],\n",
      "        [0.9593, 0.3904, 0.6009],\n",
      "        [0.2566, 0.7936, 0.9408]])\n",
      "tensor([[0.1332, 0.9346, 0.5936],\n",
      "        [0.8694, 0.5677, 0.7411],\n",
      "        [0.4294, 0.8854, 0.5739]])\n"
     ]
    }
   ],
   "source": [
    "torch.manual_seed(RANDOM_SEED)\n",
    "random_tensor_C = torch.rand(3, 3)\n",
    "random_tensor_D = torch.rand(3, 3)\n",
    "print (random_tensor_C)\n",
    "print (random_tensor_D)"
   ]
  },
  {
   "cell_type": "markdown",
   "id": "ec9458ea",
   "metadata": {},
   "source": [
    "### GPU SUPPORT"
   ]
  },
  {
   "cell_type": "code",
   "execution_count": 6,
   "id": "22bec796",
   "metadata": {},
   "outputs": [],
   "source": [
    "#Getting a gpu"
   ]
  },
  {
   "cell_type": "code",
   "execution_count": 7,
   "id": "5c395d3a",
   "metadata": {},
   "outputs": [
    {
     "data": {
      "text/plain": [
       "False"
      ]
     },
     "execution_count": 7,
     "metadata": {},
     "output_type": "execute_result"
    }
   ],
   "source": [
    "#Check GPU access\n",
    "import torch\n",
    "torch.cuda.is_available()"
   ]
  },
  {
   "cell_type": "code",
   "execution_count": 123,
   "id": "103938de",
   "metadata": {},
   "outputs": [
    {
     "name": "stdout",
     "output_type": "stream",
     "text": [
      "tensor([2., 2., 2., 2., 2.], device='mps:0')\n"
     ]
    }
   ],
   "source": [
    "# Check that MPS is available\n",
    "if not torch.backends.mps.is_available():\n",
    "    if not torch.backends.mps.is_built():\n",
    "        print(\"MPS not available because the current PyTorch install was not \"\n",
    "              \"built with MPS enabled.\")\n",
    "    else:\n",
    "        print(\"MPS not available because the current MacOS version is not 12.3+ \"\n",
    "              \"and/or you do not have an MPS-enabled device on this machine.\")\n",
    "\n",
    "else:\n",
    "    mps_device = torch.device(\"mps\")\n",
    "\n",
    "    # Create a Tensor directly on the mps device\n",
    "    x = torch.ones(5, device=mps_device)\n",
    "    # Or\n",
    "    x = torch.ones(5, device=\"mps\")\n",
    "\n",
    "    # Any operation happens on the GPU\n",
    "    y = x * 2\n",
    "    \n",
    "    print (y)\n",
    "\n",
    "    # Move your model to mps just like any other device\n",
    "#    model = YourFavoriteNet()\n",
    "#    model.to(mps_device)\n",
    "\n",
    "    # Now every call runs on the GPU\n",
    "#    pred = model(x)"
   ]
  },
  {
   "cell_type": "code",
   "execution_count": 8,
   "id": "444400d9",
   "metadata": {},
   "outputs": [],
   "source": [
    "#Setup device agnostic code\n",
    "device = 'mps'"
   ]
  },
  {
   "cell_type": "code",
   "execution_count": 9,
   "id": "3981cc94",
   "metadata": {},
   "outputs": [
    {
     "name": "stdout",
     "output_type": "stream",
     "text": [
      "tensor([1, 2, 3]) cpu\n"
     ]
    }
   ],
   "source": [
    "# Putting tensors and model on gpu\n",
    "tensor = torch.tensor([1, 2, 3])\n",
    "\n",
    "#Tensor not on GPU\n",
    "print (tensor, tensor.device)"
   ]
  },
  {
   "cell_type": "code",
   "execution_count": 10,
   "id": "b545c80a",
   "metadata": {},
   "outputs": [
    {
     "name": "stdout",
     "output_type": "stream",
     "text": [
      "tensor([1, 2, 3], device='mps:0') mps:0\n"
     ]
    }
   ],
   "source": [
    "tensor_on_GPU = tensor.to(device)\n",
    "\n",
    "#Tensor not on GPU\n",
    "print (tensor_on_GPU, tensor_on_GPU.device)"
   ]
  },
  {
   "cell_type": "code",
   "execution_count": 133,
   "id": "e6f790d7",
   "metadata": {},
   "outputs": [],
   "source": [
    "###\n",
    "#Good manner to use such code\n",
    "# Set device type\n",
    "#device = \"cuda\" if torch.cuda.is_available() else \"cpu\"\n",
    "#device\n"
   ]
  },
  {
   "cell_type": "code",
   "execution_count": 134,
   "id": "d44e6555",
   "metadata": {},
   "outputs": [],
   "source": [
    "#Tensor back to cpu\n",
    "tensor_on_cpu = tensor_on_GPU.cpu()"
   ]
  },
  {
   "cell_type": "code",
   "execution_count": 11,
   "id": "f17cd93a",
   "metadata": {},
   "outputs": [],
   "source": [
    "import time"
   ]
  },
  {
   "cell_type": "code",
   "execution_count": 21,
   "id": "b46d10df",
   "metadata": {},
   "outputs": [
    {
     "name": "stdout",
     "output_type": "stream",
     "text": [
      "time needed to calculation:1411.2659499645233\n"
     ]
    }
   ],
   "source": [
    "# Calculation time\n",
    "start = time.time()\n",
    "torch.manual_seed(RANDOM_SEED)\n",
    "my_test_tensor_cpu = torch.rand((5056, 5056),device='cpu')\n",
    "for i in range(500):\n",
    "    my_test_tensor_cpu = my_test_tensor_cpu*5000\n",
    "    torch.matmul(my_test_tensor_cpu, my_test_tensor_cpu)\n",
    "    torch.matmul(my_test_tensor_cpu, my_test_tensor_cpu)\n",
    "    torch.matmul(my_test_tensor_cpu, my_test_tensor_cpu)\n",
    "    torch.matmul(my_test_tensor_cpu, my_test_tensor_cpu)\n",
    "    torch.matmul(my_test_tensor_cpu, my_test_tensor_cpu)\n",
    "    torch.matmul(my_test_tensor_cpu, my_test_tensor_cpu)\n",
    "    torch.matmul(my_test_tensor_cpu, my_test_tensor_cpu)\n",
    "    torch.matmul(my_test_tensor_cpu, my_test_tensor_cpu)\n",
    "    torch.matmul(my_test_tensor_cpu, my_test_tensor_cpu)\n",
    "    torch.matmul(my_test_tensor_cpu, my_test_tensor_cpu)\n",
    "    torch.matmul(my_test_tensor_cpu, my_test_tensor_cpu)\n",
    "finish = time.time()\n",
    "elapsed =finish-start\n",
    "print (f'time needed to calculation:{elapsed}')"
   ]
  },
  {
   "cell_type": "code",
   "execution_count": 22,
   "id": "635485af",
   "metadata": {},
   "outputs": [
    {
     "name": "stdout",
     "output_type": "stream",
     "text": [
      "time needed to calculation:840.8752999305725\n"
     ]
    }
   ],
   "source": [
    "# Calculation time\n",
    "start = time.time()\n",
    "torch.manual_seed(RANDOM_SEED)\n",
    "my_test_tensor_gpu = torch.rand((5056, 5056),device = 'mps')\n",
    "for i in range(500):\n",
    "    my_test_tensor_gpu = my_test_tensor_gpu*5000\n",
    "    torch.matmul(my_test_tensor_gpu, my_test_tensor_gpu)\n",
    "    torch.matmul(my_test_tensor_gpu, my_test_tensor_gpu)\n",
    "    torch.matmul(my_test_tensor_gpu, my_test_tensor_gpu)\n",
    "    torch.matmul(my_test_tensor_gpu, my_test_tensor_gpu)\n",
    "    torch.matmul(my_test_tensor_gpu, my_test_tensor_gpu)\n",
    "    torch.matmul(my_test_tensor_gpu, my_test_tensor_gpu)\n",
    "    torch.matmul(my_test_tensor_gpu, my_test_tensor_gpu)\n",
    "    torch.matmul(my_test_tensor_gpu, my_test_tensor_gpu)\n",
    "    torch.matmul(my_test_tensor_gpu, my_test_tensor_gpu)\n",
    "    torch.matmul(my_test_tensor_gpu, my_test_tensor_gpu)\n",
    "    torch.matmul(my_test_tensor_gpu, my_test_tensor_gpu)\n",
    "finish = time.time()\n",
    "elapsed =finish-start\n",
    "print (f'time needed to calculation:{elapsed}')"
   ]
  },
  {
   "cell_type": "code",
   "execution_count": null,
   "id": "962d343c",
   "metadata": {},
   "outputs": [],
   "source": [
    "04.17"
   ]
  }
 ],
 "metadata": {
  "kernelspec": {
   "display_name": "Python 3 (ipykernel)",
   "language": "python",
   "name": "python3"
  },
  "language_info": {
   "codemirror_mode": {
    "name": "ipython",
    "version": 3
   },
   "file_extension": ".py",
   "mimetype": "text/x-python",
   "name": "python",
   "nbconvert_exporter": "python",
   "pygments_lexer": "ipython3",
   "version": "3.9.12"
  }
 },
 "nbformat": 4,
 "nbformat_minor": 5
}

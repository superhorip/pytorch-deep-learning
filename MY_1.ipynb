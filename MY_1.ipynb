{
 "cells": [
  {
   "cell_type": "markdown",
   "id": "ed2fa95f",
   "metadata": {},
   "source": [
    "### Pytorch workflow"
   ]
  },
  {
   "cell_type": "markdown",
   "id": "bebca031",
   "metadata": {},
   "source": [
    "1) data preparation\n",
    "2) build model\n",
    "3) fitting the model \n",
    "4) making predictions and evaluating the model (inference)\n",
    "5) saving and loading the model\n",
    "6) putting all together"
   ]
  },
  {
   "cell_type": "code",
   "execution_count": 125,
   "id": "26786d67",
   "metadata": {},
   "outputs": [],
   "source": [
    "import torch\n",
    "from torch import nn\n",
    "import matplotlib.pyplot as plt"
   ]
  },
  {
   "cell_type": "markdown",
   "id": "f985b3d0",
   "metadata": {},
   "source": [
    "#### Making linear regression"
   ]
  },
  {
   "cell_type": "code",
   "execution_count": 80,
   "id": "0d4e1b6d",
   "metadata": {},
   "outputs": [],
   "source": [
    "weight = 0.7\n",
    "bias = 0.3"
   ]
  },
  {
   "cell_type": "code",
   "execution_count": 81,
   "id": "9649d8f2",
   "metadata": {},
   "outputs": [
    {
     "data": {
      "text/plain": [
       "(tensor([[0.0000],\n",
       "         [0.0200],\n",
       "         [0.0400],\n",
       "         [0.0600],\n",
       "         [0.0800],\n",
       "         [0.1000],\n",
       "         [0.1200],\n",
       "         [0.1400],\n",
       "         [0.1600],\n",
       "         [0.1800]]),\n",
       " tensor([[0.3000],\n",
       "         [0.3140],\n",
       "         [0.3280],\n",
       "         [0.3420],\n",
       "         [0.3560],\n",
       "         [0.3700],\n",
       "         [0.3840],\n",
       "         [0.3980],\n",
       "         [0.4120],\n",
       "         [0.4260]]),\n",
       " 50)"
      ]
     },
     "execution_count": 81,
     "metadata": {},
     "output_type": "execute_result"
    }
   ],
   "source": [
    "#Making data\n",
    "start = 0\n",
    "end = 1\n",
    "step = 0.02\n",
    "X = torch.arange(start, end ,step).unsqueeze(dim =1)\n",
    "y = weight * X + bias\n",
    "X[:10], y[:10], len(y)"
   ]
  },
  {
   "cell_type": "code",
   "execution_count": 82,
   "id": "83bb07d4",
   "metadata": {},
   "outputs": [
    {
     "data": {
      "text/plain": [
       "(50, 50)"
      ]
     },
     "execution_count": 82,
     "metadata": {},
     "output_type": "execute_result"
    }
   ],
   "source": [
    "len (X), len(y)"
   ]
  },
  {
   "cell_type": "markdown",
   "id": "90257f03",
   "metadata": {},
   "source": [
    "#### Splitting to train and test"
   ]
  },
  {
   "cell_type": "markdown",
   "id": "2813a297",
   "metadata": {},
   "source": [
    "Train->Validate->Test\n"
   ]
  },
  {
   "cell_type": "code",
   "execution_count": 83,
   "id": "2b1231d5",
   "metadata": {},
   "outputs": [
    {
     "data": {
      "text/plain": [
       "(40, 40, 10, 10)"
      ]
     },
     "execution_count": 83,
     "metadata": {},
     "output_type": "execute_result"
    }
   ],
   "source": [
    "train_split = int(0.8 * len(X))\n",
    "X_train, y_train = X[:train_split], y[:train_split]\n",
    "X_test, y_test = X[train_split:], y[train_split:]\n",
    "len(X_train), len(y_train), len(X_test), len(y_test)"
   ]
  },
  {
   "cell_type": "code",
   "execution_count": 107,
   "id": "c12b5da9",
   "metadata": {},
   "outputs": [],
   "source": [
    "def plot_predictions(train_data=X_train,\n",
    "                     train_labels=y_train,\n",
    "                     test_data=X_test,\n",
    "                     test_labels=y_test,\n",
    "                     predictions=None):\n",
    "    plt.figure(figsize=(10,7))\n",
    "    plt.scatter(train_data, train_labels, c='b', s=4, label=\"Trainnig data\")\n",
    "    plt.scatter(test_data, test_labels, c='g', s=4, label=\"Test data\")\n",
    "    if predictions is not None:\n",
    "        plt.scatter(test_data, predictions, c='black', s=4, label='Predictions')\n",
    "        \n",
    "    plt.legend(prop={\"size\": 14});\n",
    "    "
   ]
  },
  {
   "cell_type": "code",
   "execution_count": 108,
   "id": "cb231010",
   "metadata": {},
   "outputs": [
    {
     "data": {
      "image/png": "[encoded data removed]",
      "text/plain": [
       "<Figure size 720x504 with 1 Axes>"
      ]
     },
     "metadata": {
      "needs_background": "light"
     },
     "output_type": "display_data"
    }
   ],
   "source": [
    "plot_predictions()"
   ]
  },
  {
   "cell_type": "code",
   "execution_count": 109,
   "id": "4ee381a6",
   "metadata": {},
   "outputs": [],
   "source": [
    "# our firsy pytorch model"
   ]
  },
  {
   "cell_type": "code",
   "execution_count": 100,
   "id": "5458f7c1",
   "metadata": {},
   "outputs": [],
   "source": [
    "class LinearRegressionModel(nn.Module):\n",
    "    def __init__(self):\n",
    "        super().__init__()\n",
    "        self.weights = nn.Parameter(torch.randn(1,\n",
    "                                             requires_grad=True,\n",
    "                                              dtype=torch.float))\n",
    "        self.bias = nn.Parameter(torch.randn(1,\n",
    "                                            requires_grad=True,\n",
    "                                            dtype=torch.float))\n",
    "        # Forward method to define computation in the model\n",
    "    def forward(self, x: torch.Tensor)->torch.Tensor:\n",
    "        return self.weights * x + self.bias \n"
   ]
  },
  {
   "cell_type": "markdown",
   "id": "5b22487c",
   "metadata": {},
   "source": [
    "Main classes \n",
    "    torch.nn - Contains all buildings for computional graphs\n",
    "    torch.nn.Parameter what parameters our model should try and learn\n",
    "    torch.nn.Module The base class for all neural network modules, if \n",
    "    you subclass it you should overwrite forward()\n",
    "    torch.optim - where optimizers live\n",
    "    def forward - All nn.Module subclasses require you to overwrite\n",
    "    forward() this method defines what happens in forward computations"
   ]
  },
  {
   "cell_type": "code",
   "execution_count": 221,
   "id": "a2256f6e",
   "metadata": {},
   "outputs": [
    {
     "data": {
      "text/plain": [
       "[Parameter containing:\n",
       " tensor([0.3367], requires_grad=True),\n",
       " Parameter containing:\n",
       " tensor([0.1288], requires_grad=True)]"
      ]
     },
     "execution_count": 221,
     "metadata": {},
     "output_type": "execute_result"
    }
   ],
   "source": [
    "### Checking content of our module\n",
    "\n",
    "#Create aninstanse of our model(this is subclass of nn.Module)\n",
    "torch.manual_seed(42)\n",
    "model_0 = LinearRegressionModel()\n",
    "list(model_0.parameters())"
   ]
  },
  {
   "cell_type": "code",
   "execution_count": 193,
   "id": "e36352eb",
   "metadata": {},
   "outputs": [
    {
     "data": {
      "text/plain": [
       "OrderedDict([('weights', tensor([0.3367])), ('bias', tensor([0.1288]))])"
      ]
     },
     "execution_count": 193,
     "metadata": {},
     "output_type": "execute_result"
    }
   ],
   "source": [
    "# List named parameters\n",
    "model_0.state_dict()"
   ]
  },
  {
   "cell_type": "code",
   "execution_count": 194,
   "id": "a45f3cc4",
   "metadata": {},
   "outputs": [
    {
     "data": {
      "text/plain": [
       "(0.7, 0.3)"
      ]
     },
     "execution_count": 194,
     "metadata": {},
     "output_type": "execute_result"
    }
   ],
   "source": [
    "weight, bias"
   ]
  },
  {
   "cell_type": "code",
   "execution_count": 195,
   "id": "7d7bab95",
   "metadata": {},
   "outputs": [
    {
     "data": {
      "text/plain": [
       "tensor([[0.3982],\n",
       "        [0.4049],\n",
       "        [0.4116],\n",
       "        [0.4184],\n",
       "        [0.4251],\n",
       "        [0.4318],\n",
       "        [0.4386],\n",
       "        [0.4453],\n",
       "        [0.4520],\n",
       "        [0.4588]])"
      ]
     },
     "execution_count": 195,
     "metadata": {},
     "output_type": "execute_result"
    }
   ],
   "source": [
    "##Making predictoins with torch.inference_mode()\n",
    "#Switches off grad tracking - faster code\n",
    "# Similar but worse torch.no_grad\n",
    "with torch.inference_mode():\n",
    "    y_preds = model_0(X_test)\n",
    "y_preds"
   ]
  },
  {
   "cell_type": "code",
   "execution_count": 196,
   "id": "307ed1dc",
   "metadata": {},
   "outputs": [
    {
     "data": {
      "image/png": "[encoded data removed]",
      "text/plain": [
       "<Figure size 720x504 with 1 Axes>"
      ]
     },
     "metadata": {
      "needs_background": "light"
     },
     "output_type": "display_data"
    }
   ],
   "source": [
    "plot_predictions(predictions=y_preds)"
   ]
  },
  {
   "cell_type": "markdown",
   "id": "58de3943",
   "metadata": {},
   "source": [
    "### Training model"
   ]
  },
  {
   "cell_type": "markdown",
   "id": "16a8f70b",
   "metadata": {},
   "source": [
    "#### Loss function"
   ]
  },
  {
   "cell_type": "code",
   "execution_count": 197,
   "id": "2685bb07",
   "metadata": {},
   "outputs": [],
   "source": [
    "#Move  from some unknown parameters to some known parameters"
   ]
  },
  {
   "cell_type": "code",
   "execution_count": 198,
   "id": "24062934",
   "metadata": {},
   "outputs": [],
   "source": [
    "#Way to measure how poor predicitons are is to use loss(cost) function\n",
    "#LossFunct is funtion to measure how wrong your predictions are to ideal outputs"
   ]
  },
  {
   "cell_type": "markdown",
   "id": "f16cab4d",
   "metadata": {},
   "source": [
    "To train model we need\n",
    "1) Loss Function\n",
    "2) Optimizer\n",
    "3) Trainnig loop\n",
    "4) Testing lop"
   ]
  },
  {
   "cell_type": "code",
   "execution_count": 222,
   "id": "7f3fbc6a",
   "metadata": {},
   "outputs": [],
   "source": [
    "#Setup Loss Func\n",
    "loss_fn = nn.L1Loss()\n",
    "\n",
    "#Setup optimizer\n",
    "optimizer = torch.optim.SGD(params=model_0.parameters(),\n",
    "                           lr=0.01)"
   ]
  },
  {
   "cell_type": "markdown",
   "id": "e9ce482b",
   "metadata": {},
   "source": [
    "Building a training loop\n",
    "0) Loop throuhty the data\n",
    "1) Forward pass (forward function) - make predicions\n",
    "2) Calculate the loss\n",
    "3) Optimizer zero grad\n",
    "4) Loss backward - move backward throught the network to calculate gradients of each parametrs of our model with respet to loss (**backprop** )\n",
    "5) Optimizer step - use optimizer to adjust model parameters to make better preditions"
   ]
  },
  {
   "cell_type": "code",
   "execution_count": 189,
   "id": "357d7212",
   "metadata": {},
   "outputs": [
    {
     "name": "stdout",
     "output_type": "stream",
     "text": [
      "tensor(0.0080, grad_fn=<MeanBackward0>)\n",
      "tensor(0.0079, grad_fn=<MeanBackward0>)\n",
      "tensor(0.0079, grad_fn=<MeanBackward0>)\n",
      "tensor(0.0079, grad_fn=<MeanBackward0>)\n",
      "tensor(0.0078, grad_fn=<MeanBackward0>)\n",
      "tensor(0.0078, grad_fn=<MeanBackward0>)\n",
      "tensor(0.0078, grad_fn=<MeanBackward0>)\n",
      "tensor(0.0077, grad_fn=<MeanBackward0>)\n",
      "tensor(0.0077, grad_fn=<MeanBackward0>)\n",
      "tensor(0.0077, grad_fn=<MeanBackward0>)\n",
      "tensor(0.0076, grad_fn=<MeanBackward0>)\n",
      "tensor(0.0076, grad_fn=<MeanBackward0>)\n",
      "tensor(0.0076, grad_fn=<MeanBackward0>)\n",
      "tensor(0.0075, grad_fn=<MeanBackward0>)\n",
      "tensor(0.0075, grad_fn=<MeanBackward0>)\n",
      "tensor(0.0075, grad_fn=<MeanBackward0>)\n",
      "tensor(0.0074, grad_fn=<MeanBackward0>)\n",
      "tensor(0.0074, grad_fn=<MeanBackward0>)\n",
      "tensor(0.0073, grad_fn=<MeanBackward0>)\n",
      "tensor(0.0073, grad_fn=<MeanBackward0>)\n",
      "tensor(0.0073, grad_fn=<MeanBackward0>)\n",
      "tensor(0.0072, grad_fn=<MeanBackward0>)\n",
      "tensor(0.0072, grad_fn=<MeanBackward0>)\n",
      "tensor(0.0072, grad_fn=<MeanBackward0>)\n",
      "tensor(0.0071, grad_fn=<MeanBackward0>)\n",
      "tensor(0.0071, grad_fn=<MeanBackward0>)\n",
      "tensor(0.0071, grad_fn=<MeanBackward0>)\n",
      "tensor(0.0070, grad_fn=<MeanBackward0>)\n",
      "tensor(0.0070, grad_fn=<MeanBackward0>)\n",
      "tensor(0.0070, grad_fn=<MeanBackward0>)\n"
     ]
    }
   ],
   "source": [
    "#Epochs - number of loops throught the data\n",
    "torch.manual_seed(42)\n",
    "epochs = 30\n",
    "for epoch in range(epochs):\n",
    "    #Set model to trainig mode\n",
    "    model_0.train()\n",
    "    \n",
    "    #1 Forward pass\n",
    "    y_pred = model_0(X_train)\n",
    "    \n",
    "    #Calculate the loss\n",
    "    loss = loss_fn(y_pred, y_train)\n",
    "    #print (loss)\n",
    "    \n",
    "    #Optimizer zero grad\n",
    "    optimizer.zero_grad()\n",
    "    \n",
    "    #4 Making backprop\n",
    "    loss.backward()\n",
    "    \n",
    "    #5 Step optomizer\n",
    "    optimizer.step()\n",
    "    \n",
    "    #Turns 0ff gradient tracking and switches model to evaluztion mode\n",
    "    #model_0.eval()\n",
    "    "
   ]
  },
  {
   "cell_type": "code",
   "execution_count": 190,
   "id": "67a293ef",
   "metadata": {},
   "outputs": [],
   "source": [
    "with torch.inference_mode():\n",
    "    y_preds = model_0(X_test)\n",
    "    "
   ]
  },
  {
   "cell_type": "code",
   "execution_count": 191,
   "id": "8cee50f8",
   "metadata": {},
   "outputs": [
    {
     "data": {
      "image/png": "[encoded data removed]",
      "text/plain": [
       "<Figure size 720x504 with 1 Axes>"
      ]
     },
     "metadata": {
      "needs_background": "light"
     },
     "output_type": "display_data"
    }
   ],
   "source": [
    "plot_predictions(predictions=y_preds)"
   ]
  },
  {
   "cell_type": "code",
   "execution_count": 223,
   "id": "eaef33fa",
   "metadata": {
    "scrolled": false
   },
   "outputs": [
    {
     "name": "stdout",
     "output_type": "stream",
     "text": [
      "Epoch :0| Train loss: 0.31288138031959534|Test Loss:0.48106518387794495\n",
      "OrderedDict([('weights', tensor([0.3406])), ('bias', tensor([0.1388]))])\n",
      "Epoch :50| Train loss: 0.04167863354086876|Test Loss:0.09919948130846024\n",
      "OrderedDict([('weights', tensor([0.4938])), ('bias', tensor([0.3843]))])\n",
      "Epoch :100| Train loss: 0.024458957836031914|Test Loss:0.05646304413676262\n",
      "OrderedDict([('weights', tensor([0.5800])), ('bias', tensor([0.3503]))])\n",
      "Epoch :150| Train loss: 0.0072835348546504974|Test Loss:0.016474086791276932\n",
      "OrderedDict([('weights', tensor([0.6654])), ('bias', tensor([0.3143]))])\n"
     ]
    }
   ],
   "source": [
    "#Epochs - number of loops throught the data\n",
    "epoch_count =[]\n",
    "Train_loss = []\n",
    "Test_loss = []\n",
    "\n",
    "torch.manual_seed(42)\n",
    "epochs = 200\n",
    "for epoch in range(epochs):\n",
    "    #Set model to trainig mode\n",
    "    model_0.train()\n",
    "    \n",
    "    epoch_count.append(epoch)\n",
    "    \n",
    "    #1 Forward pass\n",
    "    y_pred = model_0(X_train)\n",
    "    \n",
    "    #Calculate the loss\n",
    "    loss = loss_fn(y_pred, y_train)\n",
    "    #print (loss)\n",
    "    Train_loss.append(float(loss))\n",
    "    #Optimizer zero grad\n",
    "    optimizer.zero_grad()\n",
    "    \n",
    "    #4 Making backprop\n",
    "    loss.backward()\n",
    "    \n",
    "    #5 Step optomizer\n",
    "    optimizer.step()\n",
    "######TESTING PART -------------------------   \n",
    "    #Turns 0ff gradient tracking and switches model to evaluztion mode\n",
    "    model_0.eval()\n",
    "    with torch.inference_mode():#Swirch gradients tracking\n",
    "        #1 Do forward pass\n",
    "        test_pred = model_0(X_test)\n",
    "        test_loss = loss_fn(test_pred, y_test)\n",
    "        Test_loss.append(float(test_loss))\n",
    "    if epoch % 50 == 0:\n",
    "        print (f\"Epoch :{epoch}| Train loss: {loss}|Test Loss:{test_loss}\")\n",
    "        print (model_0.state_dict())"
   ]
  },
  {
   "cell_type": "code",
   "execution_count": 224,
   "id": "76ebf6f6",
   "metadata": {},
   "outputs": [
    {
     "data": {
      "text/plain": [
       "(0.7, 0.3)"
      ]
     },
     "execution_count": 224,
     "metadata": {},
     "output_type": "execute_result"
    }
   ],
   "source": [
    "weight, bias"
   ]
  },
  {
   "cell_type": "code",
   "execution_count": 226,
   "id": "a2efaeef",
   "metadata": {},
   "outputs": [
    {
     "data": {
      "image/png": "[encoded data removed]",
      "text/plain": [
       "<Figure size 432x288 with 1 Axes>"
      ]
     },
     "metadata": {
      "needs_background": "light"
     },
     "output_type": "display_data"
    }
   ],
   "source": [
    "plt.plot(epoch_count, Train_loss, label = \"Train Loss\")\n",
    "plt.plot(epoch_count, Test_loss, label = \"Test Loss\")\n",
    "plt.xlabel(\"Epochs\")\n",
    "plt.ylabel(\"Loss\")\n",
    "plt.legend()\n",
    "plt.show()"
   ]
  },
  {
   "cell_type": "markdown",
   "id": "e70e83db",
   "metadata": {},
   "source": [
    "### Saving a model"
   ]
  },
  {
   "cell_type": "markdown",
   "id": "09856574",
   "metadata": {},
   "source": [
    "#Methods to save and load\n",
    "1)torch.save() - Python pickle format\n",
    "2) torch.load() - load model\n",
    "3) torch.nn.Module.load_state_dict() -allows to load models state dict to see models params"
   ]
  },
  {
   "cell_type": "code",
   "execution_count": null,
   "id": "1ea70588",
   "metadata": {},
   "outputs": [],
   "source": [
    "07:21"
   ]
  },
  {
   "cell_type": "code",
   "execution_count": null,
   "id": "1f6804b7",
   "metadata": {},
   "outputs": [],
   "source": []
  },
  {
   "cell_type": "code",
   "execution_count": null,
   "id": "bea7dce8",
   "metadata": {},
   "outputs": [],
   "source": []
  },
  {
   "cell_type": "code",
   "execution_count": null,
   "id": "857708e0",
   "metadata": {},
   "outputs": [],
   "source": []
  }
 ],
 "metadata": {
  "kernelspec": {
   "display_name": "Python 3 (ipykernel)",
   "language": "python",
   "name": "python3"
  },
  "language_info": {
   "codemirror_mode": {
    "name": "ipython",
    "version": 3
   },
   "file_extension": ".py",
   "mimetype": "text/x-python",
   "name": "python",
   "nbconvert_exporter": "python",
   "pygments_lexer": "ipython3",
   "version": "3.9.12"
  }
 },
 "nbformat": 4,
 "nbformat_minor": 5
}

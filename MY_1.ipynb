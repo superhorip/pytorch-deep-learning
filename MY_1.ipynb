{
 "cells": [
  {
   "cell_type": "markdown",
   "id": "ed2fa95f",
   "metadata": {},
   "source": [
    "### Pytorch workflow"
   ]
  },
  {
   "cell_type": "markdown",
   "id": "bebca031",
   "metadata": {},
   "source": [
    "1) data preparation\n",
    "2) build model\n",
    "3) fitting the model \n",
    "4) making predictions and evaluating the model (inference)\n",
    "5) saving and loading the model\n",
    "6) putting all together"
   ]
  },
  {
   "cell_type": "code",
   "execution_count": 1,
   "id": "26786d67",
   "metadata": {},
   "outputs": [],
   "source": [
    "import torch\n",
    "from torch import nn\n",
    "import matplotlib.pyplot as plt"
   ]
  },
  {
   "cell_type": "markdown",
   "id": "f985b3d0",
   "metadata": {},
   "source": [
    "#### Making linear regression"
   ]
  },
  {
   "cell_type": "code",
   "execution_count": 2,
   "id": "0d4e1b6d",
   "metadata": {},
   "outputs": [],
   "source": [
    "weight = 0.7\n",
    "bias = 0.3"
   ]
  },
  {
   "cell_type": "code",
   "execution_count": 27,
   "id": "9649d8f2",
   "metadata": {},
   "outputs": [
    {
     "data": {
      "text/plain": [
       "(tensor([[0.0000],\n",
       "         [0.0200],\n",
       "         [0.0400],\n",
       "         [0.0600],\n",
       "         [0.0800],\n",
       "         [0.1000],\n",
       "         [0.1200],\n",
       "         [0.1400],\n",
       "         [0.1600],\n",
       "         [0.1800]]),\n",
       " tensor([[0.3000],\n",
       "         [0.3140],\n",
       "         [0.3280],\n",
       "         [0.3420],\n",
       "         [0.3560],\n",
       "         [0.3700],\n",
       "         [0.3840],\n",
       "         [0.3980],\n",
       "         [0.4120],\n",
       "         [0.4260]]),\n",
       " 50)"
      ]
     },
     "execution_count": 27,
     "metadata": {},
     "output_type": "execute_result"
    }
   ],
   "source": [
    "#Making data\n",
    "start = 0\n",
    "end = 1\n",
    "step = 0.02\n",
    "X = torch.arange(start, end ,step).unsqueeze(dim =1)\n",
    "y = weight * X + bias\n",
    "X[:10], y[:10], len(y)"
   ]
  },
  {
   "cell_type": "code",
   "execution_count": 19,
   "id": "83bb07d4",
   "metadata": {},
   "outputs": [
    {
     "data": {
      "text/plain": [
       "(50, 50)"
      ]
     },
     "execution_count": 19,
     "metadata": {},
     "output_type": "execute_result"
    }
   ],
   "source": [
    "len (X), len(y)"
   ]
  },
  {
   "cell_type": "markdown",
   "id": "90257f03",
   "metadata": {},
   "source": [
    "#### Splitting to train and test"
   ]
  },
  {
   "cell_type": "markdown",
   "id": "2813a297",
   "metadata": {},
   "source": [
    "Train->Validate->Test\n"
   ]
  },
  {
   "cell_type": "code",
   "execution_count": 21,
   "id": "2b1231d5",
   "metadata": {},
   "outputs": [
    {
     "data": {
      "text/plain": [
       "(40, 40, 10, 10)"
      ]
     },
     "execution_count": 21,
     "metadata": {},
     "output_type": "execute_result"
    }
   ],
   "source": [
    "train_split = int(0.8 * len(X))\n",
    "X_train, y_train = X[:train_split], y[:train_split]\n",
    "X_test, y_test = X[train_split:], y[train_split:]\n",
    "len(X_train), len(y_train), len(X_test), len(y_test)"
   ]
  },
  {
   "cell_type": "code",
   "execution_count": 32,
   "id": "c12b5da9",
   "metadata": {},
   "outputs": [],
   "source": [
    "def plot_predictions(train_data=X_train,\n",
    "                     train_labels=y_train,\n",
    "                     test_data=X_test,\n",
    "                     test_labels=y_test,\n",
    "                     predictions=None):\n",
    "    plt.figure(figsize=(10,7))\n",
    "    plt.scatter(train_data, train_labels, c='b', s=4, label=\"Trainnig data\")\n",
    "    plt.scatter(test_data, test_labels, c='g', s=4, label=\"Test data\")\n",
    "    if predictions is not None:\n",
    "        plt.scatter(test_data, predictions, c='r', s=4, label='Predictions')\n",
    "        \n",
    "    plt.legend(prop={\"size\": 14});\n",
    "    "
   ]
  },
  {
   "cell_type": "code",
   "execution_count": 33,
   "id": "cb231010",
   "metadata": {},
   "outputs": [
    {
     "data": {
      "image/png": "[encoded data removed]",
      "text/plain": [
       "<Figure size 720x504 with 1 Axes>"
      ]
     },
     "metadata": {
      "needs_background": "light"
     },
     "output_type": "display_data"
    }
   ],
   "source": [
    "plot_predictions()"
   ]
  },
  {
   "cell_type": "code",
   "execution_count": 34,
   "id": "4ee381a6",
   "metadata": {},
   "outputs": [],
   "source": [
    "# our firsy pytorch model"
   ]
  },
  {
   "cell_type": "code",
   "execution_count": 38,
   "id": "5458f7c1",
   "metadata": {},
   "outputs": [],
   "source": [
    "class LinearRegressionModel(nn.Module):\n",
    "    def __init__(self):\n",
    "        super().__init__()\n",
    "        self.weights = nn.Parameter(torch.randn(1,\n",
    "                                             requires_grad=True,\n",
    "                                              dtype=torch.float))\n",
    "        self.bias = nn.Parameter(torch.randn(1,\n",
    "                                            requires_grad=True,\n",
    "                                            dtype=torch.float))\n",
    "        # Forward method to define computation in the model\n",
    "        def forward(self, x: torch.Tensor)->torch.Tensor:\n",
    "            return self.weights*x +self.bias \n",
    "    "
   ]
  },
  {
   "cell_type": "markdown",
   "id": "5b22487c",
   "metadata": {},
   "source": [
    "Main classes \n",
    "    torch.nn - Contains all buildings for computional graphs\n",
    "    torch.nn.Parameter what parameters our model should try and learn\n",
    "    torch.nn.Module The base class for all neural network modules, if \n",
    "    you subclass it you should overwrite forward()\n",
    "    torch.optim - where optimizers live\n",
    "    def forward - All nn.Module subclasses require you to overwrite\n",
    "    forward() this method defines what happens in forward computations"
   ]
  },
  {
   "cell_type": "code",
   "execution_count": 74,
   "id": "a2256f6e",
   "metadata": {},
   "outputs": [
    {
     "data": {
      "text/plain": [
       "[Parameter containing:\n",
       " tensor([0.3367], requires_grad=True),\n",
       " Parameter containing:\n",
       " tensor([0.1288], requires_grad=True)]"
      ]
     },
     "execution_count": 74,
     "metadata": {},
     "output_type": "execute_result"
    }
   ],
   "source": [
    "### Checking content of our module\n",
    "\n",
    "#Create aninstanse of our model(this is subclass of nn.Module)\n",
    "torch.manual_seed(42)\n",
    "model_0 = LinearRegressionModel()\n",
    "list(model_0.parameters())"
   ]
  },
  {
   "cell_type": "code",
   "execution_count": 75,
   "id": "e36352eb",
   "metadata": {},
   "outputs": [
    {
     "data": {
      "text/plain": [
       "OrderedDict([('weights', tensor([0.3367])), ('bias', tensor([0.1288]))])"
      ]
     },
     "execution_count": 75,
     "metadata": {},
     "output_type": "execute_result"
    }
   ],
   "source": [
    "# List named parameters\n",
    "model_0.state_dict()"
   ]
  },
  {
   "cell_type": "code",
   "execution_count": 78,
   "id": "a45f3cc4",
   "metadata": {},
   "outputs": [
    {
     "data": {
      "text/plain": [
       "(0.7, 0.3)"
      ]
     },
     "execution_count": 78,
     "metadata": {},
     "output_type": "execute_result"
    }
   ],
   "source": [
    "weight, bias"
   ]
  },
  {
   "cell_type": "code",
   "execution_count": null,
   "id": "7d7bab95",
   "metadata": {},
   "outputs": [],
   "source": [
    "05:30"
   ]
  },
  {
   "cell_type": "code",
   "execution_count": null,
   "id": "307ed1dc",
   "metadata": {},
   "outputs": [],
   "source": []
  },
  {
   "cell_type": "code",
   "execution_count": null,
   "id": "2fb79242",
   "metadata": {},
   "outputs": [],
   "source": []
  },
  {
   "cell_type": "code",
   "execution_count": null,
   "id": "2685bb07",
   "metadata": {},
   "outputs": [],
   "source": []
  }
 ],
 "metadata": {
  "kernelspec": {
   "display_name": "Python 3 (ipykernel)",
   "language": "python",
   "name": "python3"
  },
  "language_info": {
   "codemirror_mode": {
    "name": "ipython",
    "version": 3
   },
   "file_extension": ".py",
   "mimetype": "text/x-python",
   "name": "python",
   "nbconvert_exporter": "python",
   "pygments_lexer": "ipython3",
   "version": "3.9.12"
  }
 },
 "nbformat": 4,
 "nbformat_minor": 5
}
